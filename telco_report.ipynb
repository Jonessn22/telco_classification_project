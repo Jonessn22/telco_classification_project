{
 "cells": [
  {
   "cell_type": "markdown",
   "id": "02c35728",
   "metadata": {},
   "source": [
    "<b>Telco Churn Classifcation Project</b>\n",
    "<b>Final Report</b><br>\n",
    "Stephanie Jones<br>\n",
    "Codeup | Hopper, Data Science<br>\n",
    "Monday, November 28, 2021"
   ]
  },
  {
   "cell_type": "code",
   "execution_count": 1,
   "id": "0a8dfb7a",
   "metadata": {
    "scrolled": true
   },
   "outputs": [],
   "source": [
    "# # created a for loop that returned a list of our (non-numerical) object columns and stored in variable obj_cols\n",
    "\n",
    "# # empty ilst that will store the columns that meet the below criteria in for loop\n",
    "# object_cols = []\n",
    "\n",
    "# for col in raw_data.columns:\n",
    "#     if raw_data[col].dtype == 'O':\n",
    "#         object_cols.append(col)"
   ]
  },
  {
   "cell_type": "code",
   "execution_count": 2,
   "id": "1b38d21f",
   "metadata": {},
   "outputs": [],
   "source": [
    "# # these (our object columns) are the columns we will need to map to numerical values or encode\n",
    "# print(object_cols)\n",
    "# print('\\n')\n",
    "# print(f'There are {len(object_cols)} object columns.')\n"
   ]
  },
  {
   "cell_type": "markdown",
   "id": "1feec57a",
   "metadata": {},
   "source": [
    "# 01_acquire\n",
    "To acquire the Telco data, I used the 'telco_churn' db in our mySQL server, and selected all columns from customers table `select * from customers`<br><br>\n",
    "joining the following tables:\n",
    "- contract_types using (contract_type_id) `join contract_types using (contract_type_id)`\n",
    "- internet_service_types using (internet_service_type_id) `join internet_service_types using (internet_service_type_id)`\n",
    "- payment_types using (payment_type_id)`join payment_types using (payment_type_id)`"
   ]
  },
  {
   "cell_type": "code",
   "execution_count": 5,
   "id": "43dfb37e",
   "metadata": {},
   "outputs": [],
   "source": [
    "import acquire # this is the file with all of the functions used to connect to db and acquire Telco data\n",
    "\n",
    "# this will run the function that:\n",
    "#     connects to the db using credentials from env file\n",
    "#     runs the SQL query and writes a pandas DataFrame from the results\n",
    "#     caches the DataFrame into a local telco_data.csv file if one does not already exist\n",
    "\n",
    "raw_data = acquire.acquire_telco_data()"
   ]
  },
  {
   "cell_type": "markdown",
   "id": "3340923d",
   "metadata": {},
   "source": [
    "# 02_prepare"
   ]
  },
  {
   "cell_type": "code",
   "execution_count": 9,
   "id": "5053d9af",
   "metadata": {},
   "outputs": [],
   "source": [
    "# To clean the data and prepare for exploration and modeling, I did the following:\n",
    "#     a. Dropped unnecessary customer_id column\n",
    "#     b. Dropped x3 redundant columns\n",
    "#         i. contract_type\n",
    "#         ii. internet_service_type\n",
    "#         iii. payment_type\n",
    "#     c. Changes total_charges column from object to float datatype\n",
    "#     d. Mapped x5 columns with binary values to 0 for “No” value and 1 for “Yes” value\n",
    "#         i. churn \n",
    "#         ii. dependents\n",
    "#         iii. paperless_billing\n",
    "#         iv. partner\n",
    "#         v. phone_service\n",
    "#     e. Encoded remaining x11 columns and cleaned up unclear dummy names"
   ]
  },
  {
   "cell_type": "code",
   "execution_count": 12,
   "id": "67d00f6f",
   "metadata": {},
   "outputs": [],
   "source": [
    "def clean_telco(df):\n",
    "    \n",
    "    df_dropped = df.drop(columns = ['customer_id', 'contract_type', 'internet_service_type', 'payment_type'])\n",
    "    df_dropped.total_charges\n",
    "    \n",
    "    return df_dropped"
   ]
  },
  {
   "cell_type": "code",
   "execution_count": 13,
   "id": "52f4cfc2",
   "metadata": {},
   "outputs": [],
   "source": [
    "test_df = clean_telco(raw_data)"
   ]
  },
  {
   "cell_type": "code",
   "execution_count": 15,
   "id": "369aabec",
   "metadata": {},
   "outputs": [
    {
     "name": "stdout",
     "output_type": "stream",
     "text": [
      "(7043, 24)\n",
      "(7043, 20)\n"
     ]
    }
   ],
   "source": [
    "print(raw_data.shape)\n",
    "print(test_df.shape)"
   ]
  },
  {
   "cell_type": "code",
   "execution_count": null,
   "id": "1f6e6c9b",
   "metadata": {},
   "outputs": [],
   "source": []
  }
 ],
 "metadata": {
  "kernelspec": {
   "display_name": "Python 3",
   "language": "python",
   "name": "python3"
  },
  "language_info": {
   "codemirror_mode": {
    "name": "ipython",
    "version": 3
   },
   "file_extension": ".py",
   "mimetype": "text/x-python",
   "name": "python",
   "nbconvert_exporter": "python",
   "pygments_lexer": "ipython3",
   "version": "3.8.8"
  }
 },
 "nbformat": 4,
 "nbformat_minor": 5
}
