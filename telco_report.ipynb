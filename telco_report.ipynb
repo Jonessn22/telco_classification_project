{
 "cells": [
  {
   "cell_type": "markdown",
   "id": "716f3356",
   "metadata": {},
   "source": [
    "<b>Telco Churn Classifcation Project</b>\n",
    "<b>Final Report</b><br>\n",
    "Stephanie Jones<br>\n",
    "Codeup | Hopper, Data Science<br>\n",
    "Monday, November 28, 2021"
   ]
  },
  {
   "cell_type": "code",
   "execution_count": 1,
   "id": "67923e75",
   "metadata": {
    "scrolled": true
   },
   "outputs": [],
   "source": [
    "# # created a for loop that returned a list of our (non-numerical) object columns and stored in variable obj_cols\n",
    "\n",
    "# # empty ilst that will store the columns that meet the below criteria in for loop\n",
    "# object_cols = []\n",
    "\n",
    "# for col in raw_data.columns:\n",
    "#     if raw_data[col].dtype == 'O':\n",
    "#         object_cols.append(col)"
   ]
  },
  {
   "cell_type": "code",
   "execution_count": 2,
   "id": "1de83cae",
   "metadata": {},
   "outputs": [],
   "source": [
    "# # these (our object columns) are the columns we will need to map to numerical values or encode\n",
    "# print(object_cols)\n",
    "# print('\\n')\n",
    "# print(f'There are {len(object_cols)} object columns.')\n"
   ]
  },
  {
   "cell_type": "markdown",
   "id": "66cf4191",
   "metadata": {},
   "source": [
    "# 01_acquire\n",
    "To acquire the Telco data, I used the 'telco_churn' db in our mySQL server, and selected all columns from customers table `select * from customers`<br><br>\n",
    "joining the following tables:\n",
    "- contract_types using (contract_type_id) `join contract_types using (contract_type_id)`\n",
    "- internet_service_types using (internet_service_type_id) `join internet_service_types using (internet_service_type_id)`\n",
    "- payment_types using (payment_type_id)`join payment_types using (payment_type_id)`"
   ]
  },
  {
   "cell_type": "code",
   "execution_count": 3,
   "id": "27d229d1",
   "metadata": {},
   "outputs": [],
   "source": [
    "import acquire # this is the file with all of the functions used to connect to db and acquire Telco data\n",
    "\n",
    "# this will run the function that:\n",
    "#     connects to the db using credentials from env file\n",
    "#     runs the SQL query and writes a pandas DataFrame from the results\n",
    "#     caches the DataFrame into a local telco_data.csv file if one does not already exist\n",
    "\n",
    "raw_data = acquire.acquire_telco_data()"
   ]
  },
  {
   "cell_type": "markdown",
   "id": "02c513a3",
   "metadata": {},
   "source": [
    "# 02_prepare\n",
    "\n",
    "To prepare the Telco data for exploration and modeling, I used the raw_telco data and did the following:<br><br>\n",
    "<b>Cleaning</b>\n",
    "-         a. removed x11 rows where `total_charges` was an empty valuie\n",
    "-         b. changed `total_charges` values from object to float dtype\n",
    "-         c. created dummy variables for object columns:\n",
    "                                                'churn', 'contract_type', 'dependents',\n",
    "                                                'device_protection', 'gender', 'internet_service_type', \n",
    "                                                'multiple_lines', 'online_backup', 'online_security', \n",
    "                                                'paperless_billing', 'partner', 'payment_type', 'phone_service', \n",
    "                                                'streaming_movies', 'streaming_tv', 'tech_support'\n",
    "-         d. concatenated dummy columns with the original df\n",
    "-         e. dropped unnecessary columns and customer_id column, which is not needed for exploration and modeling:\n",
    "    - e-1. dummy columns w/boolean values:\n",
    "                                                'churn_No', 'dependents_No', 'gender_Female', 'paperless_billing_No',\n",
    "                                                'partner_No', 'phone_service_No'\n",
    "    - e-2. dropped unneeded customer_id column\n",
    "    - e-3.dropped redundant columns:\n",
    "                                                'contract_type_id', 'internet_service_type_id', 'payment_type_id'\n",
    "\n",
    "-         f. renamed columns to be shorter and more understable:\n",
    "                                                'churn_Yes': 'churn', 'contract_type_Month-to-month': 'contract_mtm',\n",
    "                                                'contract_type_One year': 'contract_one_yr', 'contract_type_Two year':\n",
    "                                                'contract_two_yr', 'dependents_Yes': 'dependents', 'gender_Male': \n",
    "                                                'gender_m', 'internet_service_type_DSL': 'internet_dsl', \n",
    "                                                'internet_service_type_Fiber optic': 'internet_fiber', \n",
    "                                                'internet_service_type_None': 'internet_none', 'paperless_billing_Yes':\n",
    "                                                'paperless_bill', 'partner_Yes': 'partner', \n",
    "                                                'payment_type_Bank transfer (automatic)': 'pay_xfer_auto', \n",
    "                                                'payment_type_Credit card (automatic)': 'pay_credit_auto', \n",
    "                                                'payment_type_Electronic check': 'pay_echeck', \n",
    "                                                'payment_type_Mailed check':'pay_mail', 'phone_service_Yes': \n",
    "                                                'phone_service'\n",
    "-         g. lowercased column names\n",
    "\n",
    "\n",
    "<b>Splitting</b>\n",
    "-         a. split the cleaned telco data, first into `train_and_validate` (80%) and `test` (20%)\n",
    "-         b. splt the `train_and_validate` into `train` (70% of the 80%, <i>56% of the total</i>) and `validate` (30% of the 80%, <i>24% of the total</i>)"
   ]
  },
  {
   "cell_type": "code",
   "execution_count": 5,
   "id": "7560b6ac",
   "metadata": {},
   "outputs": [],
   "source": [
    "import prepare # this is the file with all of the functions used to clean and split the raw Telco data\n",
    "\n",
    "train, validate, test = prepare.clean_split_telco_data(raw_data)"
   ]
  },
  {
   "cell_type": "code",
   "execution_count": 36,
   "id": "c39b46af",
   "metadata": {
    "scrolled": true
   },
   "outputs": [
    {
     "name": "stdout",
     "output_type": "stream",
     "text": [
      "Train: (3937, 41)\n",
      "Validate: (1688, 41)\n",
      "Test: (1407, 41)\n"
     ]
    }
   ],
   "source": [
    "print(f'Train: {train.shape}') \n",
    "print(f'Validate: {validate.shape}') \n",
    "print(f'Test: {test.shape}') "
   ]
  },
  {
   "cell_type": "code",
   "execution_count": null,
   "id": "3f9019fb",
   "metadata": {},
   "outputs": [],
   "source": []
  }
 ],
 "metadata": {
  "kernelspec": {
   "display_name": "Python 3",
   "language": "python",
   "name": "python3"
  },
  "language_info": {
   "codemirror_mode": {
    "name": "ipython",
    "version": 3
   },
   "file_extension": ".py",
   "mimetype": "text/x-python",
   "name": "python",
   "nbconvert_exporter": "python",
   "pygments_lexer": "ipython3",
   "version": "3.8.8"
  }
 },
 "nbformat": 4,
 "nbformat_minor": 5
}
