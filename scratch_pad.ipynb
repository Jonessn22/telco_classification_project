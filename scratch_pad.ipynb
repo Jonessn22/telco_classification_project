{
 "cells": [
  {
   "cell_type": "code",
   "execution_count": 1,
   "id": "b5b253f0",
   "metadata": {},
   "outputs": [],
   "source": [
    "import acquire\n",
    "import pandas as pd\n",
    "import numpy as np"
   ]
  },
  {
   "cell_type": "code",
   "execution_count": 4,
   "id": "becf6985",
   "metadata": {},
   "outputs": [],
   "source": [
    "# acquire telco data from acquire.py file and save it in raw_telco\n",
    "\n",
    "raw_telco = acquire.acquire_telco_data()"
   ]
  },
  {
   "cell_type": "code",
   "execution_count": 17,
   "id": "17e1b9b3",
   "metadata": {},
   "outputs": [
    {
     "data": {
      "text/plain": [
       "['churn',\n",
       " 'contract_type',\n",
       " 'contract_type_id',\n",
       " 'customer_id',\n",
       " 'dependents',\n",
       " 'device_protection',\n",
       " 'gender',\n",
       " 'internet_service_type',\n",
       " 'internet_service_type_id',\n",
       " 'monthly_charges',\n",
       " 'multiple_lines',\n",
       " 'online_backup',\n",
       " 'online_security',\n",
       " 'paperless_billing',\n",
       " 'partner',\n",
       " 'payment_type',\n",
       " 'payment_type_id',\n",
       " 'phone_service',\n",
       " 'senior_citizen',\n",
       " 'streaming_movies',\n",
       " 'streaming_tv',\n",
       " 'tech_support',\n",
       " 'tenure',\n",
       " 'total_charges']"
      ]
     },
     "execution_count": 17,
     "metadata": {},
     "output_type": "execute_result"
    }
   ],
   "source": [
    "# a sorted list of columns\n",
    "\n",
    "columns = raw_telco.columns.sort_values().to_list()\n",
    "columns"
   ]
  },
  {
   "cell_type": "code",
   "execution_count": 21,
   "id": "5e6aade2",
   "metadata": {},
   "outputs": [],
   "source": [
    "# resorted columns in DataFrame\n",
    "\n",
    "raw_telco = raw_telco.reindex(sorted(raw_telco.columns), axis=1)"
   ]
  },
  {
   "cell_type": "code",
   "execution_count": 35,
   "id": "50a8ac26",
   "metadata": {
    "scrolled": false
   },
   "outputs": [
    {
     "data": {
      "text/plain": [
       "churn                        object\n",
       "contract_type                object\n",
       "contract_type_id              int64\n",
       "customer_id                  object\n",
       "dependents                   object\n",
       "device_protection            object\n",
       "gender                       object\n",
       "internet_service_type        object\n",
       "internet_service_type_id      int64\n",
       "monthly_charges             float64\n",
       "multiple_lines               object\n",
       "online_backup                object\n",
       "online_security              object\n",
       "paperless_billing            object\n",
       "partner                      object\n",
       "payment_type                 object\n",
       "payment_type_id               int64\n",
       "phone_service                object\n",
       "senior_citizen                int64\n",
       "streaming_movies             object\n",
       "streaming_tv                 object\n",
       "tech_support                 object\n",
       "tenure                        int64\n",
       "total_charges                object\n",
       "dtype: object"
      ]
     },
     "execution_count": 35,
     "metadata": {},
     "output_type": "execute_result"
    }
   ],
   "source": [
    "# the datatype for each column\n",
    "\n",
    "raw_telco.dtypes"
   ]
  },
  {
   "cell_type": "code",
   "execution_count": 32,
   "id": "3615700c",
   "metadata": {},
   "outputs": [
    {
     "data": {
      "text/plain": [
       "Index(['churn', 'contract_type', 'customer_id', 'dependents',\n",
       "       'device_protection', 'gender', 'internet_service_type',\n",
       "       'multiple_lines', 'online_backup', 'online_security',\n",
       "       'paperless_billing', 'partner', 'payment_type', 'phone_service',\n",
       "       'streaming_movies', 'streaming_tv', 'tech_support', 'total_charges'],\n",
       "      dtype='object')"
      ]
     },
     "execution_count": 32,
     "metadata": {},
     "output_type": "execute_result"
    }
   ],
   "source": [
    "# using .select_dtypes(include = 'dtype') to get columns with object datatype\n",
    "\n",
    "raw_telco.select_dtypes(include = 'object').columns#head(2)"
   ]
  },
  {
   "cell_type": "code",
   "execution_count": 26,
   "id": "450feaea",
   "metadata": {},
   "outputs": [
    {
     "data": {
      "text/plain": [
       "Index(['churn', 'contract_type', 'customer_id', 'dependents',\n",
       "       'device_protection', 'gender', 'internet_service_type',\n",
       "       'multiple_lines', 'online_backup', 'online_security',\n",
       "       'paperless_billing', 'partner', 'payment_type', 'phone_service',\n",
       "       'streaming_movies', 'streaming_tv', 'tech_support', 'total_charges'],\n",
       "      dtype='object')"
      ]
     },
     "execution_count": 26,
     "metadata": {},
     "output_type": "execute_result"
    }
   ],
   "source": [
    "# filtering to show columns with object datatype\n",
    "\n",
    "raw_telco.columns[[raw_telco[col].dtype == 'object' for col in raw_telco.columns]]"
   ]
  },
  {
   "cell_type": "code",
   "execution_count": 42,
   "id": "c010102b",
   "metadata": {},
   "outputs": [
    {
     "name": "stdout",
     "output_type": "stream",
     "text": [
      "churn has 2 unique values\n",
      "--------------\n",
      "contract_type has 3 unique values\n",
      "--------------\n",
      "contract_type_id has 3 unique values\n",
      "--------------\n",
      "customer_id has 7043 unique values\n",
      "--------------\n",
      "dependents has 2 unique values\n",
      "--------------\n",
      "device_protection has 3 unique values\n",
      "--------------\n",
      "gender has 2 unique values\n",
      "--------------\n",
      "internet_service_type has 3 unique values\n",
      "--------------\n",
      "internet_service_type_id has 3 unique values\n",
      "--------------\n",
      "monthly_charges has 1585 unique values\n",
      "--------------\n",
      "multiple_lines has 3 unique values\n",
      "--------------\n",
      "online_backup has 3 unique values\n",
      "--------------\n",
      "online_security has 3 unique values\n",
      "--------------\n",
      "paperless_billing has 2 unique values\n",
      "--------------\n",
      "partner has 2 unique values\n",
      "--------------\n",
      "payment_type has 4 unique values\n",
      "--------------\n",
      "payment_type_id has 4 unique values\n",
      "--------------\n",
      "phone_service has 2 unique values\n",
      "--------------\n",
      "senior_citizen has 2 unique values\n",
      "--------------\n",
      "streaming_movies has 3 unique values\n",
      "--------------\n",
      "streaming_tv has 3 unique values\n",
      "--------------\n",
      "tech_support has 3 unique values\n",
      "--------------\n",
      "tenure has 73 unique values\n",
      "--------------\n",
      "total_charges has 6531 unique values\n",
      "--------------\n"
     ]
    }
   ],
   "source": [
    "for col in raw_telco.columns:\n",
    "#     if raw_telco[col].dtypes == 'object':\n",
    "        print(f'{col} has {raw_telco[col].nunique()} unique values')\n",
    "        if raw_telco[col].isnull().sum() > 0:\n",
    "            print(f'{col} has {raw_telco[col].isnull().sum()} null values')\n",
    "        print('--------------')"
   ]
  },
  {
   "cell_type": "code",
   "execution_count": 43,
   "id": "63257962",
   "metadata": {
    "scrolled": true
   },
   "outputs": [
    {
     "name": "stdout",
     "output_type": "stream",
     "text": [
      "churn\n",
      "No     5174\n",
      "Yes    1869\n",
      "Name: churn, dtype: int64\n",
      "----------------\n",
      "contract_type\n",
      "Month-to-month    3875\n",
      "Two year          1695\n",
      "One year          1473\n",
      "Name: contract_type, dtype: int64\n",
      "----------------\n",
      "contract_type_id\n",
      "1    3875\n",
      "3    1695\n",
      "2    1473\n",
      "Name: contract_type_id, dtype: int64\n",
      "----------------\n",
      "customer_id\n",
      "7009-PCARS    1\n",
      "8132-YPVBX    1\n",
      "9611-CTWIH    1\n",
      "6959-UWKHF    1\n",
      "6650-BWFRT    1\n",
      "             ..\n",
      "8263-JQAIK    1\n",
      "2107-FBPTK    1\n",
      "6838-YAUVY    1\n",
      "2073-QBVBI    1\n",
      "2207-NHRJK    1\n",
      "Name: customer_id, Length: 7043, dtype: int64\n",
      "----------------\n",
      "dependents\n",
      "No     4933\n",
      "Yes    2110\n",
      "Name: dependents, dtype: int64\n",
      "----------------\n",
      "device_protection\n",
      "No                     3095\n",
      "Yes                    2422\n",
      "No internet service    1526\n",
      "Name: device_protection, dtype: int64\n",
      "----------------\n",
      "gender\n",
      "Male      3555\n",
      "Female    3488\n",
      "Name: gender, dtype: int64\n",
      "----------------\n",
      "internet_service_type\n",
      "Fiber optic    3096\n",
      "DSL            2421\n",
      "None           1526\n",
      "Name: internet_service_type, dtype: int64\n",
      "----------------\n",
      "internet_service_type_id\n",
      "2    3096\n",
      "1    2421\n",
      "3    1526\n",
      "Name: internet_service_type_id, dtype: int64\n",
      "----------------\n",
      "monthly_charges\n",
      "20.05     61\n",
      "19.85     45\n",
      "19.90     44\n",
      "19.95     44\n",
      "20.00     43\n",
      "          ..\n",
      "30.30      1\n",
      "56.45      1\n",
      "117.50     1\n",
      "40.00      1\n",
      "97.25      1\n",
      "Name: monthly_charges, Length: 1585, dtype: int64\n",
      "----------------\n",
      "multiple_lines\n",
      "No                  3390\n",
      "Yes                 2971\n",
      "No phone service     682\n",
      "Name: multiple_lines, dtype: int64\n",
      "----------------\n",
      "online_backup\n",
      "No                     3088\n",
      "Yes                    2429\n",
      "No internet service    1526\n",
      "Name: online_backup, dtype: int64\n",
      "----------------\n",
      "online_security\n",
      "No                     3498\n",
      "Yes                    2019\n",
      "No internet service    1526\n",
      "Name: online_security, dtype: int64\n",
      "----------------\n",
      "paperless_billing\n",
      "Yes    4171\n",
      "No     2872\n",
      "Name: paperless_billing, dtype: int64\n",
      "----------------\n",
      "partner\n",
      "No     3641\n",
      "Yes    3402\n",
      "Name: partner, dtype: int64\n",
      "----------------\n",
      "payment_type\n",
      "Electronic check             2365\n",
      "Mailed check                 1612\n",
      "Bank transfer (automatic)    1544\n",
      "Credit card (automatic)      1522\n",
      "Name: payment_type, dtype: int64\n",
      "----------------\n",
      "payment_type_id\n",
      "1    2365\n",
      "2    1612\n",
      "3    1544\n",
      "4    1522\n",
      "Name: payment_type_id, dtype: int64\n",
      "----------------\n",
      "phone_service\n",
      "Yes    6361\n",
      "No      682\n",
      "Name: phone_service, dtype: int64\n",
      "----------------\n",
      "senior_citizen\n",
      "0    5901\n",
      "1    1142\n",
      "Name: senior_citizen, dtype: int64\n",
      "----------------\n",
      "streaming_movies\n",
      "No                     2785\n",
      "Yes                    2732\n",
      "No internet service    1526\n",
      "Name: streaming_movies, dtype: int64\n",
      "----------------\n",
      "streaming_tv\n",
      "No                     2810\n",
      "Yes                    2707\n",
      "No internet service    1526\n",
      "Name: streaming_tv, dtype: int64\n",
      "----------------\n",
      "tech_support\n",
      "No                     3473\n",
      "Yes                    2044\n",
      "No internet service    1526\n",
      "Name: tech_support, dtype: int64\n",
      "----------------\n",
      "tenure\n",
      "1     613\n",
      "72    362\n",
      "2     238\n",
      "3     200\n",
      "4     176\n",
      "71    170\n",
      "5     133\n",
      "7     131\n",
      "8     123\n",
      "70    119\n",
      "9     119\n",
      "12    117\n",
      "10    116\n",
      "6     110\n",
      "13    109\n",
      "68    100\n",
      "11     99\n",
      "15     99\n",
      "67     98\n",
      "18     97\n",
      "69     95\n",
      "24     94\n",
      "22     90\n",
      "66     89\n",
      "35     88\n",
      "17     87\n",
      "23     85\n",
      "56     80\n",
      "52     80\n",
      "64     80\n",
      "16     80\n",
      "26     79\n",
      "25     79\n",
      "60     76\n",
      "61     76\n",
      "65     76\n",
      "14     76\n",
      "46     74\n",
      "19     73\n",
      "27     72\n",
      "29     72\n",
      "30     72\n",
      "63     72\n",
      "20     71\n",
      "62     70\n",
      "41     70\n",
      "53     70\n",
      "32     69\n",
      "50     68\n",
      "54     68\n",
      "51     68\n",
      "47     68\n",
      "58     67\n",
      "49     66\n",
      "31     65\n",
      "43     65\n",
      "42     65\n",
      "34     65\n",
      "57     65\n",
      "37     65\n",
      "40     64\n",
      "48     64\n",
      "55     64\n",
      "33     64\n",
      "21     63\n",
      "45     61\n",
      "59     60\n",
      "38     59\n",
      "28     57\n",
      "39     56\n",
      "44     51\n",
      "36     50\n",
      "0      11\n",
      "Name: tenure, dtype: int64\n",
      "----------------\n",
      "total_charges\n",
      "           11\n",
      "20.2       11\n",
      "19.75       9\n",
      "20.05       8\n",
      "19.9        8\n",
      "           ..\n",
      "3457.9      1\n",
      "1389.35     1\n",
      "2303.35     1\n",
      "3211.9      1\n",
      "1608.15     1\n",
      "Name: total_charges, Length: 6531, dtype: int64\n",
      "----------------\n"
     ]
    }
   ],
   "source": [
    "# used for loop to print each unique value and value count for each column\n",
    "\n",
    "for col in raw_telco.columns:\n",
    "    print(col)\n",
    "    print(raw_telco[col].value_counts())\n",
    "    print('----------------')"
   ]
  },
  {
   "cell_type": "code",
   "execution_count": 47,
   "id": "12dec742",
   "metadata": {},
   "outputs": [
    {
     "data": {
      "text/plain": [
       "Electronic check             2365\n",
       "Mailed check                 1612\n",
       "Bank transfer (automatic)    1544\n",
       "Credit card (automatic)      1522\n",
       "Name: payment_type, dtype: int64"
      ]
     },
     "execution_count": 47,
     "metadata": {},
     "output_type": "execute_result"
    }
   ],
   "source": [
    "raw_telco.payment_type.value_counts()"
   ]
  },
  {
   "cell_type": "code",
   "execution_count": 48,
   "id": "a73d57a4",
   "metadata": {},
   "outputs": [
    {
     "data": {
      "text/html": [
       "<div>\n",
       "<style scoped>\n",
       "    .dataframe tbody tr th:only-of-type {\n",
       "        vertical-align: middle;\n",
       "    }\n",
       "\n",
       "    .dataframe tbody tr th {\n",
       "        vertical-align: top;\n",
       "    }\n",
       "\n",
       "    .dataframe thead th {\n",
       "        text-align: right;\n",
       "    }\n",
       "</style>\n",
       "<table border=\"1\" class=\"dataframe\">\n",
       "  <thead>\n",
       "    <tr style=\"text-align: right;\">\n",
       "      <th>payment_type_id</th>\n",
       "      <th>1</th>\n",
       "      <th>2</th>\n",
       "      <th>3</th>\n",
       "      <th>4</th>\n",
       "    </tr>\n",
       "    <tr>\n",
       "      <th>payment_type</th>\n",
       "      <th></th>\n",
       "      <th></th>\n",
       "      <th></th>\n",
       "      <th></th>\n",
       "    </tr>\n",
       "  </thead>\n",
       "  <tbody>\n",
       "    <tr>\n",
       "      <th>Bank transfer (automatic)</th>\n",
       "      <td>0</td>\n",
       "      <td>0</td>\n",
       "      <td>1544</td>\n",
       "      <td>0</td>\n",
       "    </tr>\n",
       "    <tr>\n",
       "      <th>Credit card (automatic)</th>\n",
       "      <td>0</td>\n",
       "      <td>0</td>\n",
       "      <td>0</td>\n",
       "      <td>1522</td>\n",
       "    </tr>\n",
       "    <tr>\n",
       "      <th>Electronic check</th>\n",
       "      <td>2365</td>\n",
       "      <td>0</td>\n",
       "      <td>0</td>\n",
       "      <td>0</td>\n",
       "    </tr>\n",
       "    <tr>\n",
       "      <th>Mailed check</th>\n",
       "      <td>0</td>\n",
       "      <td>1612</td>\n",
       "      <td>0</td>\n",
       "      <td>0</td>\n",
       "    </tr>\n",
       "  </tbody>\n",
       "</table>\n",
       "</div>"
      ],
      "text/plain": [
       "payment_type_id               1     2     3     4\n",
       "payment_type                                     \n",
       "Bank transfer (automatic)     0     0  1544     0\n",
       "Credit card (automatic)       0     0     0  1522\n",
       "Electronic check           2365     0     0     0\n",
       "Mailed check                  0  1612     0     0"
      ]
     },
     "execution_count": 48,
     "metadata": {},
     "output_type": "execute_result"
    }
   ],
   "source": [
    "pd.crosstab(raw_telco.payment_type, raw_telco.payment_type_id)"
   ]
  },
  {
   "cell_type": "code",
   "execution_count": 57,
   "id": "b77ead33",
   "metadata": {},
   "outputs": [],
   "source": [
    "raw_telco.payment_type.replace('Electronic check', 1,  inplace = True)#, \n",
    "#                                'Mailed check': 2,\n",
    "#                                'Bank transfer (automatic)': 3, \n",
    "#                                'Credit card (automatic)': 4)"
   ]
  },
  {
   "cell_type": "code",
   "execution_count": 58,
   "id": "9f0f45f7",
   "metadata": {},
   "outputs": [
    {
     "data": {
      "text/plain": [
       "1                            2365\n",
       "Mailed check                 1612\n",
       "Bank transfer (automatic)    1544\n",
       "Credit card (automatic)      1522\n",
       "Name: payment_type, dtype: int64"
      ]
     },
     "execution_count": 58,
     "metadata": {},
     "output_type": "execute_result"
    }
   ],
   "source": [
    "raw_telco.payment_type.value_counts()"
   ]
  },
  {
   "cell_type": "code",
   "execution_count": null,
   "id": "2beb740d",
   "metadata": {},
   "outputs": [],
   "source": []
  }
 ],
 "metadata": {
  "kernelspec": {
   "display_name": "Python 3",
   "language": "python",
   "name": "python3"
  },
  "language_info": {
   "codemirror_mode": {
    "name": "ipython",
    "version": 3
   },
   "file_extension": ".py",
   "mimetype": "text/x-python",
   "name": "python",
   "nbconvert_exporter": "python",
   "pygments_lexer": "ipython3",
   "version": "3.8.8"
  }
 },
 "nbformat": 4,
 "nbformat_minor": 5
}
