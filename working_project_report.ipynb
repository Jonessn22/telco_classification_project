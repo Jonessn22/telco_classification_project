{
 "cells": [
  {
   "cell_type": "code",
   "execution_count": 2,
   "id": "c198678d",
   "metadata": {},
   "outputs": [],
   "source": [
    "# import local files\n",
    "# import env\n",
    "# import acquire\n",
    "# import prepare\n",
    "\n",
    "# data science libraries\n",
    "import pandas as pd\n",
    "import numpy as np\n",
    "from scipy import stats\n",
    "\n",
    "# visualizations\n",
    "import matplotlib.pyplot as plt\n",
    "import seaborn as sns\n",
    "\n",
    "# import splitting and imputing functions\n",
    "from sklearn.model_selection import train_test_split\n",
    "from sklearn.impute import SimpleImputer\n",
    "\n",
    "# confusion matrix for model evaluation\n",
    "from sklearn.metrics import confusion_matrix\n",
    "\n",
    "# *************************************\n",
    "\n",
    "import os\n",
    "\n",
    "# turn off pink boxes\n",
    "import warnings\n",
    "warnings.filterwarnings('ignore')\n",
    "\n",
    "np.random.seed(123)"
   ]
  },
  {
   "cell_type": "markdown",
   "id": "69a7e948",
   "metadata": {},
   "source": [
    "# 01. Data Acquisition\n",
    "Acquiring telco data from Codeup DB"
   ]
  },
  {
   "cell_type": "code",
   "execution_count": null,
   "id": "438a8a56",
   "metadata": {},
   "outputs": [],
   "source": []
  }
 ],
 "metadata": {
  "kernelspec": {
   "display_name": "Python 3",
   "language": "python",
   "name": "python3"
  },
  "language_info": {
   "codemirror_mode": {
    "name": "ipython",
    "version": 3
   },
   "file_extension": ".py",
   "mimetype": "text/x-python",
   "name": "python",
   "nbconvert_exporter": "python",
   "pygments_lexer": "ipython3",
   "version": "3.8.8"
  }
 },
 "nbformat": 4,
 "nbformat_minor": 5
}
